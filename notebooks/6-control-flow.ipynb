{
 "cells": [
  {
   "cell_type": "markdown",
   "metadata": {},
   "source": [
    "# 制御構造\n",
    "プログラムは入力された値に応じて, 様々な処理を行います. 制御構造を用いると, 条件分岐や反復処理などを実現できます."
   ]
  },
  {
   "cell_type": "markdown",
   "metadata": {},
   "source": [
    "## if 文\n",
    "if 文は条件分岐を実現します. if 文は次のように書きます.\n",
    "\n",
    "```\n",
    "if 条件1:\n",
    "    条件1が成立した時の処理\n",
    "elif 条件2:\n",
    "    条件1は成立しなかったが, 条件2が成立した時の処理\n",
    "else:\n",
    "    条件1も条件2も成立しなかった時の処理\n",
    "```"
   ]
  },
  {
   "cell_type": "code",
   "execution_count": 1,
   "metadata": {
    "collapsed": false
   },
   "outputs": [
    {
     "name": "stdout",
     "output_type": "stream",
     "text": [
      "良\n"
     ]
    }
   ],
   "source": [
    "x = 75\n",
    "if x >= 80:\n",
    "    print(\"優\")\n",
    "elif x >= 70:\n",
    "    print(\"良\")\n",
    "elif x >= 60:\n",
    "    print(\"良\")\n",
    "else:\n",
    "    print(\"不可\")"
   ]
  },
  {
   "cell_type": "markdown",
   "metadata": {},
   "source": [
    "## for 文\n",
    "for 文は反復処理を実現します. Python の for 文は次のように書きます.\n",
    "\n",
    "```\n",
    "for 変数名 in 反復するデータ:\n",
    "    処理\n",
    "```\n",
    "\n",
    "Python では C などのプログラミング言語と違い, リストや文字列のシーケンス型について反復処理を行えます."
   ]
  },
  {
   "cell_type": "code",
   "execution_count": 3,
   "metadata": {
    "collapsed": false
   },
   "outputs": [
    {
     "name": "stdout",
     "output_type": "stream",
     "text": [
      "素数の先頭6個\n",
      "2\n",
      "3\n",
      "5\n",
      "7\n",
      "11\n",
      "13\n"
     ]
    }
   ],
   "source": [
    "primes = [2, 3, 5, 7, 11, 13]\n",
    "print(\"素数の先頭6個\")\n",
    "for prime in primes:\n",
    "    print(prime)"
   ]
  },
  {
   "cell_type": "markdown",
   "metadata": {},
   "source": [
    "`range()` 関数を使うと, 簡単に数列を作ることができます."
   ]
  },
  {
   "cell_type": "code",
   "execution_count": 6,
   "metadata": {
    "collapsed": false
   },
   "outputs": [
    {
     "name": "stdout",
     "output_type": "stream",
     "text": [
      "0\n",
      "1\n",
      "2\n",
      "3\n",
      "4\n",
      "5\n",
      "6\n",
      "7\n",
      "8\n",
      "9\n"
     ]
    }
   ],
   "source": [
    "for i in range(10):\n",
    "    print(i)"
   ]
  },
  {
   "cell_type": "markdown",
   "metadata": {},
   "source": [
    "## 練習\n",
    "- 0から100 までの数のうち, 奇数だけを順に表示するプログラムを作ってみましょう\n",
    "- 0から100 までの数のうち, 素数だけを順に表示するプログラムを作ってみましょう"
   ]
  }
 ],
 "metadata": {
  "kernelspec": {
   "display_name": "Python 3",
   "language": "python",
   "name": "python3"
  },
  "language_info": {
   "codemirror_mode": {
    "name": "ipython",
    "version": 3
   },
   "file_extension": ".py",
   "mimetype": "text/x-python",
   "name": "python",
   "nbconvert_exporter": "python",
   "pygments_lexer": "ipython3",
   "version": "3.5.1"
  }
 },
 "nbformat": 4,
 "nbformat_minor": 0
}
