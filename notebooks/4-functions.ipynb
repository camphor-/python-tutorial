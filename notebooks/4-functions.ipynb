{
 "cells": [
  {
   "cell_type": "markdown",
   "metadata": {},
   "source": [
    "# 関数\n",
    "Python での関数はまとまった処理に名前をつけておき, プログラム中で利用できるようにするものです. 同じ処理を複数回記述することを防ぎ, 再利用性を高めることが出来ます.\n",
    "\n",
    "Python での関数は\n",
    "- 定義した個数の**引数**をとり\n",
    "- なんらかの**処理**を行う\n",
    "- **返り値**を返す\n",
    "\n",
    "ものです.\n",
    "\n",
    "ここでの **引数** は関数の外部から値を受け取るための特別な変数, またはその変数の値のことで,\n",
    "**返り値** は関数が関数の外部に返す値のことです.\n",
    "\n",
    "これまで登場した関数の例:\n",
    "- `print`\n",
    "  - 引数: 文字列や数値など\n",
    "  - 処理: 引数の値を表示する\n",
    "  - 返り値: なし (`None`)\n",
    "- `input`\n",
    "  - 引数: 表示するメッセージ\n",
    "  - 処理: 入力を1行受け取る\n",
    "  - 返り値: 受け取った入力を文字列として返す"
   ]
  },
  {
   "cell_type": "markdown",
   "metadata": {},
   "source": [
    "## 関数定義\n",
    "Python で関数は次のようにして定義します.\n",
    "\n",
    "```\n",
    "def 関数名(仮引数名1, 仮引数名2, ...):\n",
    "    # 処理\n",
    "    return 返り値\n",
    "```\n",
    "\n",
    "Python では関数の中身の部分はインデント (字下げ) が必要です. 一般的に `Tab` キーを用いて, 半角スペース4つを入力します. インデントを行うことで, その関数の処理と関数の外部の範囲を区別することが出来ます."
   ]
  },
  {
   "cell_type": "code",
   "execution_count": 1,
   "metadata": {
    "collapsed": true
   },
   "outputs": [],
   "source": [
    "# 例: x と y を加算する関数\n",
    "def add(x, y):\n",
    "    return x + y\n",
    "\n",
    "# 例: x * y + z を計算する関数\n",
    "def madd(x, y, z):\n",
    "    temp = x * y\n",
    "    return temp + z"
   ]
  },
  {
   "cell_type": "markdown",
   "metadata": {},
   "source": [
    "関数を定義するだけでは関数の内部の処理は実行されません. 関数を利用するには次の関数適用を行います."
   ]
  },
  {
   "cell_type": "markdown",
   "metadata": {},
   "source": [
    "## 関数呼び出し\n",
    "関数を利用するには `関数名(実引数1, 実引数2, ...)` のように記述します."
   ]
  },
  {
   "cell_type": "code",
   "execution_count": 2,
   "metadata": {
    "collapsed": false
   },
   "outputs": [
    {
     "name": "stdout",
     "output_type": "stream",
     "text": [
      "5\n",
      "10\n"
     ]
    }
   ],
   "source": [
    "# 例:\n",
    "x = add(2, 3)\n",
    "print(x)\n",
    "\n",
    "y = madd(2, 3, 4)\n",
    "print(y)"
   ]
  },
  {
   "cell_type": "markdown",
   "metadata": {},
   "source": [
    "関数を呼び出すと, 関数定義で定義した処理が実行されます. その際に指定した実引数が, 仮引数に代入されます. "
   ]
  },
  {
   "cell_type": "code",
   "execution_count": 3,
   "metadata": {
    "collapsed": true
   },
   "outputs": [],
   "source": [
    "# add(2, 3)の呼び出しのイメージ:\n",
    "x = 2\n",
    "y = 3\n",
    "# x + y を返す\n",
    "\n",
    "# madd(2, 3, 4) の呼び出しのイメージ:\n",
    "x = 2\n",
    "y = 3\n",
    "z = 4\n",
    "temp = x * y\n",
    "# temp + z を返す"
   ]
  },
  {
   "cell_type": "markdown",
   "metadata": {},
   "source": [
    "呼び出した関数が `return` で返り値を返す場合, 返り値を `print` 関数で表示したり, 変数に代入することが出来ます."
   ]
  },
  {
   "cell_type": "code",
   "execution_count": 4,
   "metadata": {
    "collapsed": true
   },
   "outputs": [],
   "source": [
    "# add(2, 3) の実行のイメージ:\n",
    "# add(2, 3) →\n",
    "# 5\n",
    "\n",
    "# print(add(2, 3)) の実行のイメージ:\n",
    "# print(add(2, 3)) →\n",
    "# print(5) →\n",
    "# 5 が表示される\n",
    "\n",
    "\n",
    "# x = add(2, add(1, 3)) の実行のイメージ:\n",
    "# x = add(2, add(1, 3)) →\n",
    "# x = add(2, 4) →\n",
    "# x = 6 →\n",
    "# x に 6 が代入される"
   ]
  },
  {
   "cell_type": "markdown",
   "metadata": {},
   "source": [
    "関数は再帰的に呼び出すことが出来ます. 階乗 (`n! = 1 * 2 * 3 * ... * n`) を求めるプログラム (if 文は後ほど説明します):"
   ]
  },
  {
   "cell_type": "code",
   "execution_count": 5,
   "metadata": {
    "collapsed": false
   },
   "outputs": [
    {
     "name": "stdout",
     "output_type": "stream",
     "text": [
      "3628800\n"
     ]
    }
   ],
   "source": [
    "def fact(n):\n",
    "    if n <= 0:\n",
    "        return 1\n",
    "    else:\n",
    "        return n * fact(n - 1)\n",
    "\n",
    "print(fact(10))"
   ]
  },
  {
   "cell_type": "markdown",
   "metadata": {},
   "source": [
    "## 練習\n",
    "- 3つの数を引数としてとり, それらの積を返すような関数 `mult3` を作ってみましょう\n",
    "- 引数をとらず, 入力を1行受け取り, 受け取った入力を整数に変換して返す関数 `input_int` を作ってみましょう"
   ]
  }
 ],
 "metadata": {
  "kernelspec": {
   "display_name": "Python 3",
   "language": "python",
   "name": "python3"
  },
  "language_info": {
   "codemirror_mode": {
    "name": "ipython",
    "version": 3
   },
   "file_extension": ".py",
   "mimetype": "text/x-python",
   "name": "python",
   "nbconvert_exporter": "python",
   "pygments_lexer": "ipython3",
   "version": "3.5.1"
  }
 },
 "nbformat": 4,
 "nbformat_minor": 0
}
