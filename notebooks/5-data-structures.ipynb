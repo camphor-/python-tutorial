{
 "cells": [
  {
   "cell_type": "markdown",
   "metadata": {},
   "source": [
    "# データ構造\n",
    "これまでは数値や文字列のようなデータを扱ってきましたが, Python ではリストや辞書と呼ばれるものを使って, 複数の値を一つにまとめることが出来ます."
   ]
  },
  {
   "cell_type": "markdown",
   "metadata": {},
   "source": [
    "## リスト\n",
    "リストは複数の値の並びを一つにまとめることができます. リストは角括弧を使って書きます."
   ]
  },
  {
   "cell_type": "code",
   "execution_count": 1,
   "metadata": {
    "collapsed": false
   },
   "outputs": [
    {
     "name": "stdout",
     "output_type": "stream",
     "text": [
      "[2, 3, 5, 7, 11, 13]\n"
     ]
    }
   ],
   "source": [
    "primes = [2, 3, 5, 7, 11, 13]\n",
    "print(primes)"
   ]
  },
  {
   "cell_type": "markdown",
   "metadata": {},
   "source": [
    "`primes[n]` のようにして, リスト `prime` の `n` 番目の値を取得できます. (プログラミングでは数は0から数えることが多いため, 先頭の数は0番目になります)"
   ]
  },
  {
   "cell_type": "code",
   "execution_count": 2,
   "metadata": {
    "collapsed": false
   },
   "outputs": [
    {
     "name": "stdout",
     "output_type": "stream",
     "text": [
      "0番目:\n",
      "2\n",
      "1番目:\n",
      "3\n",
      "2番目:\n",
      "5\n"
     ]
    }
   ],
   "source": [
    "print(\"0番目:\")\n",
    "print(primes[0])\n",
    "print(\"1番目:\")\n",
    "print(primes[1])\n",
    "print(\"2番目:\")\n",
    "print(primes[2])"
   ]
  },
  {
   "cell_type": "markdown",
   "metadata": {},
   "source": [
    "`primes[n]` に値を代入することで, `prime` の `n` 番目の値を変更できます."
   ]
  },
  {
   "cell_type": "code",
   "execution_count": 3,
   "metadata": {
    "collapsed": false
   },
   "outputs": [
    {
     "name": "stdout",
     "output_type": "stream",
     "text": [
      "[2, 3, 5, 7, 11, 13]\n",
      "[2, 100, 5, 7, 11, 13]\n"
     ]
    }
   ],
   "source": [
    "print(primes)\n",
    "primes[1] = 100\n",
    "print(primes)"
   ]
  },
  {
   "cell_type": "markdown",
   "metadata": {},
   "source": [
    "## 辞書\n",
    "辞書はその名の通り辞書のようなもので, キーと値のペアの集合です. 辞書は波括弧を使って書きます."
   ]
  },
  {
   "cell_type": "code",
   "execution_count": 4,
   "metadata": {
    "collapsed": false
   },
   "outputs": [
    {
     "name": "stdout",
     "output_type": "stream",
     "text": [
      "{'egg': '卵', 'dog': 'イヌ', 'apple': 'りんご'}\n"
     ]
    }
   ],
   "source": [
    "eiwa = {\n",
    "    \"apple\": \"りんご\",\n",
    "    \"dog\": \"イヌ\",\n",
    "    \"egg\": \"卵\"\n",
    "}\n",
    "print(eiwa)"
   ]
  },
  {
   "cell_type": "markdown",
   "metadata": {},
   "source": [
    "`eiwa[key]` のようにして, `eiwa` のキーが `key` である値を取得できます."
   ]
  },
  {
   "cell_type": "code",
   "execution_count": 5,
   "metadata": {
    "collapsed": false
   },
   "outputs": [
    {
     "name": "stdout",
     "output_type": "stream",
     "text": [
      "イヌ\n"
     ]
    }
   ],
   "source": [
    "print(eiwa[\"dog\"])"
   ]
  },
  {
   "cell_type": "markdown",
   "metadata": {},
   "source": [
    "存在しないキーの値を取得しようとするとエラーになります"
   ]
  },
  {
   "cell_type": "code",
   "execution_count": 6,
   "metadata": {
    "collapsed": false
   },
   "outputs": [
    {
     "ename": "KeyError",
     "evalue": "'cat'",
     "output_type": "error",
     "traceback": [
      "\u001b[0;31m---------------------------------------------------------------------------\u001b[0m",
      "\u001b[0;31mKeyError\u001b[0m                                  Traceback (most recent call last)",
      "\u001b[0;32m<ipython-input-6-e12575542c60>\u001b[0m in \u001b[0;36m<module>\u001b[0;34m()\u001b[0m\n\u001b[0;32m----> 1\u001b[0;31m \u001b[0meiwa\u001b[0m\u001b[0;34m[\u001b[0m\u001b[0;34m\"cat\"\u001b[0m\u001b[0;34m]\u001b[0m\u001b[0;34m\u001b[0m\u001b[0m\n\u001b[0m",
      "\u001b[0;31mKeyError\u001b[0m: 'cat'"
     ]
    }
   ],
   "source": [
    "eiwa[\"cat\"]"
   ]
  },
  {
   "cell_type": "markdown",
   "metadata": {},
   "source": [
    "辞書にあるキーが存在するかどうかは**`in`**演算子でチェックできます. 存在する場合は `True` (真), 存在しない場合は `False` (偽) という真偽値が返ります."
   ]
  },
  {
   "cell_type": "code",
   "execution_count": 7,
   "metadata": {
    "collapsed": false
   },
   "outputs": [
    {
     "name": "stdout",
     "output_type": "stream",
     "text": [
      "True\n",
      "False\n"
     ]
    }
   ],
   "source": [
    "print(\"dog\" in eiwa)\n",
    "print(\"cat\" in eiwa)"
   ]
  },
  {
   "cell_type": "markdown",
   "metadata": {},
   "source": [
    "`eiwa[key]` に値を代入することで, `eiwa` のキーが `key` である値を変更出来ます."
   ]
  },
  {
   "cell_type": "code",
   "execution_count": 8,
   "metadata": {
    "collapsed": false
   },
   "outputs": [
    {
     "name": "stdout",
     "output_type": "stream",
     "text": [
      "イヌ\n",
      "犬\n"
     ]
    }
   ],
   "source": [
    "print(eiwa[\"dog\"])\n",
    "eiwa[\"dog\"] = \"犬\"\n",
    "print(eiwa[\"dog\"])"
   ]
  },
  {
   "cell_type": "markdown",
   "metadata": {},
   "source": [
    "`eiwa.keys()` でキーのリスト, `eiwa.values()` で値のリスト, `eiwa.items()` でキーと値のペア (タプル) のリストを取得できます."
   ]
  },
  {
   "cell_type": "code",
   "execution_count": 9,
   "metadata": {
    "collapsed": false
   },
   "outputs": [
    {
     "name": "stdout",
     "output_type": "stream",
     "text": [
      "dict_keys(['egg', 'dog', 'apple'])\n",
      "dict_values(['卵', '犬', 'りんご'])\n",
      "dict_items([('egg', '卵'), ('dog', '犬'), ('apple', 'りんご')])\n"
     ]
    }
   ],
   "source": [
    "print(eiwa.keys())\n",
    "print(eiwa.values())\n",
    "print(eiwa.items())"
   ]
  },
  {
   "cell_type": "markdown",
   "metadata": {},
   "source": [
    "## 練習\n",
    "- いろいろなリストや辞書を作って, 値を変更してみましょう.\n",
    "- リストや辞書には要素を追加したり削除したりなど, 様々な操作が可能です. 調べて試してみましょう."
   ]
  }
 ],
 "metadata": {
  "kernelspec": {
   "display_name": "Python 3",
   "language": "python",
   "name": "python3"
  },
  "language_info": {
   "codemirror_mode": {
    "name": "ipython",
    "version": 3
   },
   "file_extension": ".py",
   "mimetype": "text/x-python",
   "name": "python",
   "nbconvert_exporter": "python",
   "pygments_lexer": "ipython3",
   "version": "3.5.1"
  }
 },
 "nbformat": 4,
 "nbformat_minor": 0
}
