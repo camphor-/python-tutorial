{
 "cells": [
  {
   "cell_type": "markdown",
   "metadata": {},
   "source": [
    "# はじめに\n",
    "このチュートリアルはプログラミング初心者の方が, Python を使ってプログラミングの基礎を学ぶためのものです.\n",
    "\n",
    "出来る限り正確な表現を心がけていますが, 一部の表現は技術的な正確さを犠牲にして, 初心者にわかりやすいように記述している部分があります."
   ]
  },
  {
   "cell_type": "markdown",
   "metadata": {},
   "source": [
    "## 対話モードで遊ぶ\n",
    "`python` というコマンドを入力すると, Python インタプリタが**対話モード**で起動します.\n",
    "対話モードを使うと, プログラムを入力して, `Enter` キーを押してすぐに実行することが出来ます.\n",
    "\n",
    "対話モードを終了するには, `exit()` と入力して `Enter` キーを押すか, `Ctrl` キーと `D` キーを同時に押して下さい (`Ctrl+D`).\n",
    "\n",
    "例:\n",
    "```\n",
    "$ python\n",
    "Python 3.5.1 (default, Dec  7 2015, 21:59:10)\n",
    "[GCC 4.2.1 Compatible Apple LLVM 7.0.0 (clang-700.1.76)] on darwin\n",
    "Type \"help\", \"copyright\", \"credits\" or \"license\" for more information.\n",
    ">>>\n",
    ">>> exit()\n",
    "$\n",
    "```"
   ]
  },
  {
   "cell_type": "markdown",
   "metadata": {},
   "source": [
    "### 電卓\n",
    "Python インタプリタを簡単な電卓として使ってみましょう.\n",
    "計算したい式 (プログラム) を入力して, `Enter` キーを押すと, プログラムを実行した結果が表示されます.\n",
    "間違ったプログラムを実行すると, **エラー**の内容が表示されます.\n",
    "\n",
    "Python では `+` や `-`, `*`, `/` などの**演算子**が利用出来ます.\n",
    "\n",
    "例 (`#` の後ろは入力しなくて良いです):\n",
    "```\n",
    ">>> 1 + 1  # 加算\n",
    "2\n",
    ">>> 123 - 32  # 減算\n",
    "91\n",
    ">>> 6 * 3  # 乗算\n",
    "18\n",
    ">>> 8 / 2  # 除算\n",
    "4.0\n",
    ">>> 2 ** 8  #  2の8乗\n",
    "256\n",
    ">>> (3 + 4) * (8 - 2)  # 丸括弧\n",
    "42\n",
    ">>> 1.1 + 1.2  # 小数\n",
    "2.3\n",
    ">>> 3 / 0\n",
    "Traceback (most recent call last):\n",
    "  File \"<stdin>\", line 1, in <module>\n",
    "ZeroDivisionError: division by zero\n",
    ">>> 3 +\n",
    "  File \"<stdin>\", line 1\n",
    "    3 +\n",
    "      ^\n",
    "SyntaxError: invalid syntax\n",
    "```"
   ]
  },
  {
   "cell_type": "markdown",
   "metadata": {},
   "source": [
    "### 文字列\n",
    "**文字列**は `'おはよう'` や `\"こんにちは\"` のように, 引用符を使って書きます.\n",
    "文字列は `+` を使って, 2つの文字列を結合することも出来ます.\n",
    "\n",
    "例:\n",
    "```\n",
    ">>> \"おはよう\"\n",
    "'おはよう'\n",
    ">>> 'こんにちは'\n",
    "'こんにちは'\n",
    ">>> \"おはよう\" + \"こんにちは\"\n",
    "'おはようこんにちは'\n",
    "```"
   ]
  },
  {
   "cell_type": "markdown",
   "metadata": {},
   "source": [
    "## スクリプトを実行する\n",
    "実際に Python プログラムを作成する時には, ファイルにプログラムを書いておいて, そのファイルを Python インタプリタで実行することが多いです.\n",
    "Python プログラムは末尾に拡張子 **`.py`** をつけます. (例: `filename.py`)\n",
    "\n",
    "ファイルを作成してみましょう. 例 (`0.py`):\n",
    "```python\n",
    "print(\"こんにちは\")\n",
    "```\n",
    "\n",
    "ファイルを作成したら, 実行してみましょう. 例:\n",
    "```\n",
    "$ python 0.py\n",
    "こんにちは\n",
    "```\n",
    "\n",
    "対話モード以外で文字列を表示するためには `print()` 関数を利用します.\n",
    "\n",
    "### コメント\n",
    "**`#`** 以降に書かれたプログラムは**コメント**と呼ばれ, プログラムとしての意味は持ちません.\n",
    "プログラマーが様々なメモをプログラム中に残すために利用します."
   ]
  },
  {
   "cell_type": "code",
   "execution_count": 1,
   "metadata": {
    "collapsed": false
   },
   "outputs": [
    {
     "name": "stdout",
     "output_type": "stream",
     "text": [
      "ここは表示される\n",
      "ここも表示される\n"
     ]
    }
   ],
   "source": [
    "print(\"ここは表示される\")\n",
    "# print(\"ここは表示されない\")\n",
    "print(\"ここも表示される\")"
   ]
  },
  {
   "cell_type": "markdown",
   "metadata": {},
   "source": [
    "## 練習\n",
    "- 対話モードで Python インタプリタを起動して, 様々な計算をしてみましょう\n",
    "  - 非常に大きい数や非常に小さい数を計算してみましょう\n",
    "  - 整数と小数 (浮動小数点数) の違いはわかりますか?\n",
    "- 適当な Python プログラムのファイルを作成して, 実行してみましょう\n",
    "  - 何かメッセージを表示できましたか?"
   ]
  }
 ],
 "metadata": {
  "kernelspec": {
   "display_name": "Python 3",
   "language": "python",
   "name": "python3"
  },
  "language_info": {
   "codemirror_mode": {
    "name": "ipython",
    "version": 3
   },
   "file_extension": ".py",
   "mimetype": "text/x-python",
   "name": "python",
   "nbconvert_exporter": "python",
   "pygments_lexer": "ipython3",
   "version": "3.5.1"
  }
 },
 "nbformat": 4,
 "nbformat_minor": 0
}
