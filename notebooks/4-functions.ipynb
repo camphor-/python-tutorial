{
 "cells": [
  {
   "cell_type": "markdown",
   "metadata": {},
   "source": [
    "# 関数\n",
    "Python での関数はまとまった処理に名前をつけておき, プログラム中で利用できるようにするものです.\n",
    "\n",
    "Python での関数は\n",
    "- 定義した個数の**引数**をとり\n",
    "- なんらかの**処理**を行う\n",
    "- **戻り値**を返す\n",
    "\n",
    "ものです.\n",
    "\n",
    "これまで登場した関数の例:\n",
    "- `print`\n",
    "  - 引数: 文字列や数値など\n",
    "  - 処理: 引数の値を表示する\n",
    "  - 戻り値: なし\n",
    "- `input`\n",
    "  - 引数: 表示するメッセージ\n",
    "  - 処理: 入力を1行受け取る\n",
    "  - 戻り値: 受け取った入力を文字列として返す"
   ]
  },
  {
   "cell_type": "markdown",
   "metadata": {},
   "source": [
    "## 関数定義\n",
    "Python で関数は次のようにして定義します.\n",
    "\n",
    "```\n",
    "def 関数名(引数名1, 引数名2, ...):\n",
    "    # 処理\n",
    "    return 戻り値\n",
    "```\n",
    "\n",
    "Python では関数の中身の部分はインデント (字下げ) が必要です. 一般的に `Tab` キーを用いて, 半角スペース4つを入力します."
   ]
  },
  {
   "cell_type": "code",
   "execution_count": 1,
   "metadata": {
    "collapsed": true
   },
   "outputs": [],
   "source": [
    "# 例: x と y を加算する関数\n",
    "def add(x, y):\n",
    "    return x + y"
   ]
  },
  {
   "cell_type": "markdown",
   "metadata": {},
   "source": [
    "## 関数適用\n",
    "関数を利用するには `関数名(引数1, 引数2, ...)` のように記述します."
   ]
  },
  {
   "cell_type": "code",
   "execution_count": 2,
   "metadata": {
    "collapsed": false
   },
   "outputs": [
    {
     "name": "stdout",
     "output_type": "stream",
     "text": [
      "5\n"
     ]
    }
   ],
   "source": [
    "# 例:\n",
    "x = add(2, 3)\n",
    "print(x)"
   ]
  },
  {
   "cell_type": "markdown",
   "metadata": {},
   "source": [
    "## 練習\n",
    "- 3つの数を引数としてとり, それらの積を返すような関数を作ってみましょう\n",
    "- 引数をとらず, 入力を1行受け取り, 受け取った入力を整数に変換して返す関数を作ってみましょう"
   ]
  }
 ],
 "metadata": {
  "kernelspec": {
   "display_name": "Python 3",
   "language": "python",
   "name": "python3"
  },
  "language_info": {
   "codemirror_mode": {
    "name": "ipython",
    "version": 3
   },
   "file_extension": ".py",
   "mimetype": "text/x-python",
   "name": "python",
   "nbconvert_exporter": "python",
   "pygments_lexer": "ipython3",
   "version": "3.5.1"
  }
 },
 "nbformat": 4,
 "nbformat_minor": 0
}
