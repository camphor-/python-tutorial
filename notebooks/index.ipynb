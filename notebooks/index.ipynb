{
 "cells": [
  {
   "cell_type": "markdown",
   "metadata": {},
   "source": [
    "# Python チュートリアル\n",
    "Python で始めるプログラミング"
   ]
  },
  {
   "cell_type": "markdown",
   "metadata": {},
   "source": [
    "## この資料について\n",
    "この資料はプログラミング初心者が, Python を用いてプログラミングに入門するためのものです.\n",
    "一人で学習するための資料ではなく, Python を知っている人と一緒に学習することを想定して記述されています.\n",
    "このため Python の開発環境の構築についての記述はこの資料にはありません."
   ]
  },
  {
   "cell_type": "markdown",
   "metadata": {},
   "source": [
    "## 環境について\n",
    "この資料は Python 3 について記述しています. Python 2 では一部動作しない部分があります."
   ]
  },
  {
   "cell_type": "markdown",
   "metadata": {},
   "source": [
    "## 目次\n",
    "- [はじめに](0-introduction.html)\n",
    "- [print](1-print.html)\n",
    "- [変数](2-variables.html)\n",
    "- [input](3-input.html)\n",
    "- [関数](4-functions.html)\n",
    "- [データ構造](5-data-structures.html)\n",
    "- [制御構造](6-control-flow.html)\n",
    "- [練習: 英単語ゲーム](7-exercise.html)"
   ]
  },
  {
   "cell_type": "markdown",
   "metadata": {},
   "source": [
    "## ライセンス\n",
    "<a rel=\"license\" href=\"http://creativecommons.org/licenses/by-nc/4.0/\"><img alt=\"クリエイティブ・コモンズ・ライセンス\" style=\"border-width:0\" src=\"https://i.creativecommons.org/l/by-nc/4.0/88x31.png\"></a><br>この作品は <a rel=\"license\" href=\"http://creativecommons.org/licenses/by-nc/4.0/\">クリエイティブ・コモンズ 表示 - 非営利 4.0 国際 ライセンスの下に提供されています。</a>"
   ]
  },
  {
   "cell_type": "markdown",
   "metadata": {},
   "source": [
    "## 著者\n",
    "### 著者\n",
    "- [@ymyzk](https://github.com/ymyzk)\n",
    "\n",
    "### レビュー\n",
    "- [CAMPHOR- コアメンバー](https://camph.net/members)"
   ]
  }
 ],
 "metadata": {
  "kernelspec": {
   "display_name": "Python 3",
   "language": "python",
   "name": "python3"
  },
  "language_info": {
   "codemirror_mode": {
    "name": "ipython",
    "version": 3
   },
   "file_extension": ".py",
   "mimetype": "text/x-python",
   "name": "python",
   "nbconvert_exporter": "python",
   "pygments_lexer": "ipython3",
   "version": "3.5.1"
  }
 },
 "nbformat": 4,
 "nbformat_minor": 0
}
