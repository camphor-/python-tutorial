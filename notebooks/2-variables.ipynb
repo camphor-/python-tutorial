{
 "cells": [
  {
   "cell_type": "markdown",
   "metadata": {},
   "source": [
    "# 変数\n",
    "**変数**はプログラム中で利用する数値や文字列などの様々なデータに, 名前を付けるものです."
   ]
  },
  {
   "cell_type": "markdown",
   "metadata": {},
   "source": [
    "## 代入・参照\n",
    "具体的なデータと変数を関連付けることを**代入**と呼びます.\n",
    "Python では `=` を用いて `変数名 = 代入するデータ` と書くことで, 変数にデータを代入出来ます.\n",
    "\n",
    "変数に代入した値を利用することを**参照**と呼びます.\n",
    "Python では変数名をプログラム中で記述することで, 変数が参照しているデータを利用出来ます.\n",
    "変数 `x` が参照しているデータのことを, 変数 `x` の**値**とも呼びます"
   ]
  },
  {
   "cell_type": "code",
   "execution_count": 1,
   "metadata": {
    "collapsed": false
   },
   "outputs": [
    {
     "name": "stdout",
     "output_type": "stream",
     "text": [
      "3\n",
      "7\n",
      "10\n",
      "こんにちは\n"
     ]
    }
   ],
   "source": [
    "x = 1 + 2  # x に 1 + 2 の結果を代入\n",
    "y = 3 + 4  # y に 3 + 4 の結果を代入 \n",
    "print(x)  # x の値を表示\n",
    "print(y)  # y の値を表示\n",
    "print(x + y)  # x と y の値を加算した結果を表示\n",
    "\n",
    "message = \"こんにちは\"  # 文字列ももちろん変数に代入出来ます\n",
    "print(message)"
   ]
  },
  {
   "cell_type": "markdown",
   "metadata": {},
   "source": [
    "## Tips: 変数名\n",
    "基本的に変数の名前は分かりやすく, 統一感のあるものにしましょう. (プログラミング言語や人によって様々な流儀があります)\n",
    "\n",
    "例:\n",
    "- 分かりやすい名前: `sum`, `account`, `flag`\n",
    "- 分かりにくい名前: `a`, `b`, `c`\n",
    "\n",
    "- 統一感のある名前: `my_account`, `his_account`\n",
    "- 統一感のない名前: `my_account`, `hisAccount`"
   ]
  },
  {
   "cell_type": "markdown",
   "metadata": {},
   "source": [
    "## 練習\n",
    "- 変数に値を代入してみましょう\n",
    "- 変数の値を表示してみましょう\n",
    "- 変数を使って複雑な計算をしてみましょう"
   ]
  }
 ],
 "metadata": {
  "kernelspec": {
   "display_name": "Python 3",
   "language": "python",
   "name": "python3"
  },
  "language_info": {
   "codemirror_mode": {
    "name": "ipython",
    "version": 3
   },
   "file_extension": ".py",
   "mimetype": "text/x-python",
   "name": "python",
   "nbconvert_exporter": "python",
   "pygments_lexer": "ipython3",
   "version": "3.5.1"
  }
 },
 "nbformat": 4,
 "nbformat_minor": 0
}
