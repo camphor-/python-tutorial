{
 "cells": [
  {
   "cell_type": "markdown",
   "metadata": {},
   "source": [
    "# print\n",
    "[`print()`](http://docs.python.jp/3/library/functions.html#print) 関数を利用すると, 数値や文字列を画面に表示することが出来ます."
   ]
  },
  {
   "cell_type": "markdown",
   "metadata": {
    "collapsed": true
   },
   "source": [
    "## 文字列の表示\n",
    "`print()` を用いて, 文字列を表示出来ます.\n",
    "\n",
    "Python で複数の文を記述するときは, 間に改行を記述します."
   ]
  },
  {
   "cell_type": "code",
   "execution_count": 1,
   "metadata": {
    "collapsed": false
   },
   "outputs": [
    {
     "name": "stdout",
     "output_type": "stream",
     "text": [
      "こんにちは\n",
      "CAMPHOR-\n",
      "CAMPHOR- HOUSE\n"
     ]
    }
   ],
   "source": [
    "print(\"こんにちは\")\n",
    "print(\"CAMPHOR-\")\n",
    "print(\"CAMPHOR- HOUSE\")"
   ]
  },
  {
   "cell_type": "markdown",
   "metadata": {
    "collapsed": true
   },
   "source": [
    "## 数値の表示\n",
    "`print()` を用いて数値を表示することも出来ます."
   ]
  },
  {
   "cell_type": "code",
   "execution_count": 2,
   "metadata": {
    "collapsed": false
   },
   "outputs": [
    {
     "name": "stdout",
     "output_type": "stream",
     "text": [
      "3\n",
      "6\n",
      "2の16乗は:\n",
      "65536\n"
     ]
    }
   ],
   "source": [
    "print(1 + 2)\n",
    "print(2 * 3)\n",
    "print(\"2の16乗は:\")\n",
    "print(2 ** 16)"
   ]
  },
  {
   "cell_type": "markdown",
   "metadata": {},
   "source": [
    "## 練習\n",
    "- 様々な文字列や計算結果を表示する Python スクリプトを作成して, 実行してみましょう."
   ]
  }
 ],
 "metadata": {
  "kernelspec": {
   "display_name": "Python 3",
   "language": "python",
   "name": "python3"
  },
  "language_info": {
   "codemirror_mode": {
    "name": "ipython",
    "version": 3
   },
   "file_extension": ".py",
   "mimetype": "text/x-python",
   "name": "python",
   "nbconvert_exporter": "python",
   "pygments_lexer": "ipython3",
   "version": "3.5.1"
  }
 },
 "nbformat": 4,
 "nbformat_minor": 0
}
